{
 "cells": [
  {
   "cell_type": "markdown",
   "metadata": {},
   "source": [
    "The brute force solution that comes to mind right way is to loop through the binary bit and count each instance of the number 1."
   ]
  },
  {
   "cell_type": "markdown",
   "metadata": {},
   "source": [
    "The space complexity is O(1) or constant through 32 bit, regardless of the real length of the binary bit. We can try to shorten it by making sure that the loop only run when the remainder of the shifting number is not zero"
   ]
  }
 ],
 "metadata": {
  "language_info": {
   "name": "python"
  }
 },
 "nbformat": 4,
 "nbformat_minor": 2
}
