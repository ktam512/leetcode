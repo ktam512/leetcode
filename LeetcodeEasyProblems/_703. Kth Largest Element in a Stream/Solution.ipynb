{
 "cells": [
  {
   "cell_type": "markdown",
   "metadata": {},
   "source": [
    "<h5>General approach: O(k) time complexity</h5>\n",
    "<p>Use a min-heap priority queue. Maintain a heap of size k that contains the k largest elements seen so far. The smallest element in this heap is the kth largest element of the stream.</p>"
   ]
  }
 ],
 "metadata": {
  "language_info": {
   "name": "python"
  }
 },
 "nbformat": 4,
 "nbformat_minor": 2
}
