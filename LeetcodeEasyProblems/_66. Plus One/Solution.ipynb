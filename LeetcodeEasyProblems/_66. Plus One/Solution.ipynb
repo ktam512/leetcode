{
 "cells": [
  {
   "cell_type": "markdown",
   "metadata": {},
   "source": [
    "<p>Take the final value of the array and add 1 to it.\n",
    "Then return the array as it is.</p>"
   ]
  },
  {
   "cell_type": "markdown",
   "metadata": {},
   "source": [
    "<h5>The brute-force method</h5>\n",
    "<p>Do it normally if the last value is not 9.</p>\n",
    "<p>Otherwise, carry it to the next value. Keep the loop if the next value is also 9. In the end add another value (1) if all of them are 9</p>\n"
   ]
  }
 ],
 "metadata": {
  "language_info": {
   "name": "python"
  }
 },
 "nbformat": 4,
 "nbformat_minor": 2
}
