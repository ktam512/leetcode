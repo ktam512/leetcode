{
 "cells": [
  {
   "cell_type": "markdown",
   "metadata": {},
   "source": [
    "My first thought is to write the method recursively, which means we run the method throughout the whole tree by runming it on our left and right subtree first."
   ]
  },
  {
   "cell_type": "markdown",
   "metadata": {},
   "source": [
    "Drawing from the experience in number 100, we have to check for the null condition first, and then move to values, and finally check each subtree."
   ]
  },
  {
   "cell_type": "markdown",
   "metadata": {},
   "source": [
    "To know if one is the subtree of another, we have to identify the exact tree inside another tree - which means at some point, we have to check if they are the same tree - that's why we need the helper function sameTree() from 100"
   ]
  }
 ],
 "metadata": {
  "language_info": {
   "name": "python"
  }
 },
 "nbformat": 4,
 "nbformat_minor": 2
}
