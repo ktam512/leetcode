{
 "cells": [
  {
   "cell_type": "markdown",
   "metadata": {},
   "source": [
    "My first thought is to do it recursively:\n",
    "Compare the root node, and then compare their left subtree and right subtree using the exact method"
   ]
  },
  {
   "cell_type": "markdown",
   "metadata": {},
   "source": [
    "The second thought is that we have to handle the base case carefully:\n",
    "- When both root nodes are null, return true\n",
    "- When either one of them are null, return false\n",
    "- When their value are different, return false\n",
    "Only after passing this three condition that we now know both nodes have the same root values, and move on to check the condition for the left and right subtree"
   ]
  }
 ],
 "metadata": {
  "language_info": {
   "name": "python"
  }
 },
 "nbformat": 4,
 "nbformat_minor": 2
}
