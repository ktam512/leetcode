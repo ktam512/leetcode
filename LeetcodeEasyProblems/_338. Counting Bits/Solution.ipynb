{
 "cells": [
  {
   "cell_type": "markdown",
   "metadata": {},
   "source": [
    "First thought is to create an array of each element and then count the number of 1s in each element of the array."
   ]
  },
  {
   "cell_type": "markdown",
   "metadata": {},
   "source": [
    "The dynamic programming solutions is to realize the pattern: only when the most significant bit changes that we change the pattern to a different number. "
   ]
  }
 ],
 "metadata": {
  "language_info": {
   "name": "python"
  }
 },
 "nbformat": 4,
 "nbformat_minor": 2
}
