{
 "cells": [
  {
   "cell_type": "markdown",
   "metadata": {},
   "source": [
    "<h5>Time complexity: O(n)</h5>\n",
    "<p>Initialize three variables to store the top three maximums. Traverse the array, updating these variables accordingly. Return the third maximum.</p>"
   ]
  }
 ],
 "metadata": {
  "language_info": {
   "name": "python"
  }
 },
 "nbformat": 4,
 "nbformat_minor": 2
}
