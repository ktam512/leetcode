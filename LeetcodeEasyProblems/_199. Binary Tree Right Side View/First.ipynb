{
 "cells": [
  {
   "cell_type": "markdown",
   "metadata": {},
   "source": [
    "First, we have to understand the problems: \n",
    "    With an observer siting on the right side of the tree, the nodes that you see will be either the node from the right side. Or without "
   ]
  }
 ],
 "metadata": {
  "language_info": {
   "name": "python"
  }
 },
 "nbformat": 4,
 "nbformat_minor": 2
}
