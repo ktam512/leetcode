{
 "cells": [
  {
   "cell_type": "markdown",
   "metadata": {},
   "source": [
    "The problem is quite straightforward, you have to reverse the initial bit and then convert it into its decimal counterpart.\n",
    "You can reverse it normally with two pointers, and then convert it using some kind of loop."
   ]
  }
 ],
 "metadata": {
  "language_info": {
   "name": "python"
  }
 },
 "nbformat": 4,
 "nbformat_minor": 2
}
