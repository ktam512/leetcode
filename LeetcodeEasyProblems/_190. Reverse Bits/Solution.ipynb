{
 "cells": [
  {
   "cell_type": "markdown",
   "metadata": {},
   "source": [
    "The problem is quite straightforward, you have to reverse the initial bit and then convert it into its decimal counterpart.\n",
    "You can reverse it normally with two pointers, and then convert it using some kind of loop."
   ]
  },
  {
   "cell_type": "markdown",
   "metadata": {},
   "source": [
    "After trying, it seems that the way above (of turning it into decimal and reverse) is overly complicated and long. Switch to a different strategy now : to manipulate the bit directly (my debt to ChatGPT)"
   ]
  }
 ],
 "metadata": {
  "language_info": {
   "name": "python"
  }
 },
 "nbformat": 4,
 "nbformat_minor": 2
}
