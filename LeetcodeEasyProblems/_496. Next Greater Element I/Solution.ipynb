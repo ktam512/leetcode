{
 "cells": [
  {
   "cell_type": "markdown",
   "metadata": {},
   "source": [
    "<h5>General approach</h5>\n",
    "<p>Isterate through the nums1 array. For each element, find its index in nums2. Then, iterate from that index in nums2 to find the next greater element. Store results in a hashmap. Finally, retrieve results for nums1 elements.</p>"
   ]
  }
 ],
 "metadata": {
  "language_info": {
   "name": "python"
  }
 },
 "nbformat": 4,
 "nbformat_minor": 2
}
