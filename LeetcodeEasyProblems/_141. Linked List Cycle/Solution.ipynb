{
 "cells": [
  {
   "cell_type": "markdown",
   "metadata": {},
   "source": [
    "The first thought is to use some kind of hashmap/hashset to keep track of all the nodes that we have visited. And then when we come across a node that we visited along the linked list, we know that there's cycle. "
   ]
  },
  {
   "cell_type": "markdown",
   "metadata": {},
   "source": [
    "Another O(n) solutions are the Floyd's Tortoise and Hare: we are using 2 fast and slow pointers - their distance will be closed by each iteration and if they meet each other again - that means it's a circle."
   ]
  }
 ],
 "metadata": {
  "language_info": {
   "name": "python"
  }
 },
 "nbformat": 4,
 "nbformat_minor": 2
}
