{
 "cells": [
  {
   "cell_type": "markdown",
   "metadata": {},
   "source": [
    "The first thought is to use some kind of hashmap/hashset to keep track of all the nodes that we have visited. And then when we come across a node that we visited along the linked list, we know that there's cycle. "
   ]
  }
 ],
 "metadata": {
  "language_info": {
   "name": "python"
  }
 },
 "nbformat": 4,
 "nbformat_minor": 2
}
