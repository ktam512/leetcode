{
 "cells": [
  {
   "cell_type": "markdown",
   "metadata": {},
   "source": [
    "The first solution comes to mind is having an arrays of all the numbers in that range and then loop through all of them and delete each number in the above array when they're also found in the provided array until we find only one number in that range. Then return that number. "
   ]
  },
  {
   "cell_type": "markdown",
   "metadata": {},
   "source": [
    "Another solution that will yield the space complexity of O(1) is using the bitwise exclusive OR: Knowning that if we put all of them in a ^ formula, then we will got the missing number (as a ^ a == 0)"
   ]
  },
  {
   "cell_type": "markdown",
   "metadata": {},
   "source": [
    "Another solution is to calculate the sum of all element inside this array and also the true array from 0 to n. After that take the minus of that."
   ]
  }
 ],
 "metadata": {
  "language_info": {
   "name": "python"
  }
 },
 "nbformat": 4,
 "nbformat_minor": 2
}
