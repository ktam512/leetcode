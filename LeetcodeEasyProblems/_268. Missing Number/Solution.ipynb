{
 "cells": [
  {
   "cell_type": "markdown",
   "metadata": {},
   "source": [
    "The first solution comes to mind is having an arrays of all the numbers in that range and then loop through all of them and delete each number in the above array when they're also found in the provided array until we find only one number in that range. Then return that number. "
   ]
  }
 ],
 "metadata": {
  "language_info": {
   "name": "python"
  }
 },
 "nbformat": 4,
 "nbformat_minor": 2
}
