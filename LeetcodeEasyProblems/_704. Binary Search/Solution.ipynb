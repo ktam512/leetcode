{
 "cells": [
  {
   "cell_type": "markdown",
   "metadata": {},
   "source": [
    "<h5>Problem statement</h5>\n",
    "<p>Given an sorted array in an ascending order and a target. </p>\n",
    "<p>Return the index of target if it exists. Else return -1</p>"
   ]
  },
  {
   "cell_type": "markdown",
   "metadata": {},
   "source": [
    "<p>Using 2 pointer of left and right, we take the arithmetic mean of both of them. Compare this arithmetic mean to the target. Depends on whether it's bigger or smaller, we will shift the left or right pointer to the value right before or after this arithmetic mean.</p>"
   ]
  }
 ],
 "metadata": {
  "language_info": {
   "name": "python"
  }
 },
 "nbformat": 4,
 "nbformat_minor": 2
}
