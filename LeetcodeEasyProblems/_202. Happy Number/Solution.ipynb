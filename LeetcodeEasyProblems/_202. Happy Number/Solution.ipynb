{
 "cells": [
  {
   "cell_type": "markdown",
   "metadata": {},
   "source": [
    "If the number is one-digit and not zero and one, then it will always come back to a specific number. The loop will repeat itself.\n",
    "To prevent this, create a hashset and keep track of all number that's visited. If there's a duplicate, break the loop. If it's not 1, return false and vice versa."
   ]
  }
 ],
 "metadata": {
  "language_info": {
   "name": "python"
  }
 },
 "nbformat": 4,
 "nbformat_minor": 2
}
