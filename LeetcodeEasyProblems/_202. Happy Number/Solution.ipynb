{
 "cells": [
  {
   "cell_type": "markdown",
   "metadata": {},
   "source": [
    "If the number is one-digit and not zero and one, then it will "
   ]
  }
 ],
 "metadata": {
  "language_info": {
   "name": "python"
  }
 },
 "nbformat": 4,
 "nbformat_minor": 2
}
