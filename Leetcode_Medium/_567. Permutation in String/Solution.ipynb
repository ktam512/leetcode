{
 "cells": [
  {
   "cell_type": "markdown",
   "metadata": {},
   "source": [
    "<h5>The O(26*n) time complexity solution</h5>\n",
    "<p>Store the value of each character in Hashmap and then compare it to each other to see if we have a matches</p>"
   ]
  }
 ],
 "metadata": {
  "language_info": {
   "name": "python"
  }
 },
 "nbformat": 4,
 "nbformat_minor": 2
}
