{
 "cells": [
  {
   "cell_type": "markdown",
   "metadata": {},
   "source": [
    "<h5>Time complexity: O(logn)</h5>\n",
    "<p>First determine the number of digits in each group (1-9, 10-99, 100-999, etc.). Then, locate which number the nth digit falls into and calculate its position within that number.</p>"
   ]
  }
 ],
 "metadata": {
  "language_info": {
   "name": "python"
  }
 },
 "nbformat": 4,
 "nbformat_minor": 2
}
