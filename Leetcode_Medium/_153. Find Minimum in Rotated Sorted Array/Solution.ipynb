{
 "cells": [
  {
   "cell_type": "markdown",
   "metadata": {},
   "source": [
    "<h5>Time complexity: O(log n)</h5>\n",
    "<p>Use binary search to locate the pivot, where the transition from larger to smaller elements occurs. Update search ranges based on comparisons, narrowing down until the minimum is found.</p>"
   ]
  }
 ],
 "metadata": {
  "language_info": {
   "name": "python"
  }
 },
 "nbformat": 4,
 "nbformat_minor": 2
}
