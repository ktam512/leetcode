{
 "cells": [
  {
   "cell_type": "markdown",
   "metadata": {},
   "source": [
    "The first thougt come to mind is to loop through each node with two pointers, and compare the sum of two pointer while the first pointer stay in one place. Since the array is sorted, when the sum is greater than the target number, we can moved to the next element right away (knowning that the sum after that will always be greater)"
   ]
  },
  {
   "cell_type": "markdown",
   "metadata": {},
   "source": [
    "<h3> Problem statement</h3>\n",
    "Give an array with sorted increasing order\n",
    "<p>Choose only one solution that have two indexes add up to the target number</p>\n",
    "<h5> Two pointer idea:</h5>\n",
    "<p>To use 2 pointers, starting at the beginning and end of the array. Then we compare the sum of two elements to the target. Knowning that the array is sorted, if the sum is bigger, reduce it by decrement right pointer by 1 and vice versa.</p>"
   ]
  }
 ],
 "metadata": {
  "language_info": {
   "name": "python"
  }
 },
 "nbformat": 4,
 "nbformat_minor": 2
}
