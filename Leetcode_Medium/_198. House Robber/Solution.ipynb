{
 "cells": [
  {
   "cell_type": "markdown",
   "metadata": {},
   "source": [
    "The first impression from the question is to return the maximum sum of values in one instances that each piece of values does not adjacent to each other."
   ]
  },
  {
   "cell_type": "markdown",
   "metadata": {},
   "source": [
    "The recursive solution to this problem is to divide it into smaller sub-problems:\n",
    "Since in the smallest case, when n == 1, they will return the only house. When n == 2, they will return the house with bigger values.\n",
    "From knowning that, we can know that n == 3, we will have to see which choices are bigger: The biggest rob up until that point. And so on and so forth."
   ]
  }
 ],
 "metadata": {
  "language_info": {
   "name": "python"
  }
 },
 "nbformat": 4,
 "nbformat_minor": 2
}
