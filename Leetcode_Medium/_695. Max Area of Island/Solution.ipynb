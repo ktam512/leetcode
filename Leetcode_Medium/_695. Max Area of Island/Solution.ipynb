{
 "cells": [
  {
   "cell_type": "markdown",
   "metadata": {},
   "source": [
    "<h5>General approaches</h5>\n",
    "<p>Uses Depth First Search (DFS) to traverse through the grid, marking visited cells and calculating the area of islands recursively. Finally, it returns the maximum area found.</p>"
   ]
  }
 ],
 "metadata": {
  "language_info": {
   "name": "python"
  }
 },
 "nbformat": 4,
 "nbformat_minor": 2
}
