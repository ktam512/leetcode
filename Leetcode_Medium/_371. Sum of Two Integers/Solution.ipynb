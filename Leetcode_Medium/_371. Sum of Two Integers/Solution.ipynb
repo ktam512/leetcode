{
 "cells": [
  {
   "cell_type": "markdown",
   "metadata": {},
   "source": [
    "Not using the plus and minus sign means that we must use bit manipulation to solve this problem. Notice that the exclusive OR bitwise operator can be used to result in the before-carry bit.\n",
    "After that, the AND operator will let us know where's the carry in the adding. We also have to shift it to the left 1 value, and then keep performing this function until there's no more carrying."
   ]
  }
 ],
 "metadata": {
  "language_info": {
   "name": "python"
  }
 },
 "nbformat": 4,
 "nbformat_minor": 2
}
