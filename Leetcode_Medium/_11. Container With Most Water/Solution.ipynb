{
 "cells": [
  {
   "cell_type": "markdown",
   "metadata": {},
   "source": [
    "<h5>Problem statement</h5>\n",
    "<p>Given an integer array height that store the y-axis \"height\" of a graph. An x-axis is the index of the element in the graph.</p>\n",
    "<p>Return the volume of the largest ammount of water one can make with two vertical lines and the x-axis of the graph.</p>"
   ]
  },
  {
   "cell_type": "markdown",
   "metadata": {},
   "source": [
    "<h5>Brute-force solution</h5>\n",
    "<p>Time complexity: O(n^2)</p>\n",
    "<p>Using 2 for loop and calculate how much volume one can make between 2 index. Keep track of the current maximum volume in the process. Return it at the end of the method.</p>"
   ]
  },
  {
   "cell_type": "markdown",
   "metadata": {},
   "source": [
    "<h5>Two pointers solution</h5>\n",
    "<p>Time complexity: O(n)</p>\n",
    "<p>Using two pointers: left and right, starting at the beginning and the end of the array (to maximize the width value). Also keep track of the current maximum volume. Move the smaller pointer of the two to the center, in the hope of finding a bigger height to justify the width decrease. Return the volume when the pointers meet.</p>"
   ]
  }
 ],
 "metadata": {
  "language_info": {
   "name": "python"
  }
 },
 "nbformat": 4,
 "nbformat_minor": 2
}
