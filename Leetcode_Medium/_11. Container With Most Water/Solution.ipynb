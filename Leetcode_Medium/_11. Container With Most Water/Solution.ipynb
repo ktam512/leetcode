{
 "cells": [
  {
   "cell_type": "markdown",
   "metadata": {},
   "source": [
    "<h5>Problem statement</h5>\n",
    "<p>Given an integer array height that store the y-axis \"height\" of a graph. An x-axis is the index of the element in the graph.</p>\n",
    "<p>Return the volume of the largest ammount of water one can make with two vertical lines and the x-axis of the graph.</p>"
   ]
  },
  {
   "cell_type": "markdown",
   "metadata": {},
   "source": [
    "<h5>Brute-force solution</h5>\n",
    "<p>We just using 2 for loop and calculate how much volume one can make between 2 index. Keep track of the current maximum volume in the process. Return it at the end of the method.</p>"
   ]
  }
 ],
 "metadata": {
  "language_info": {
   "name": "python"
  }
 },
 "nbformat": 4,
 "nbformat_minor": 2
}
