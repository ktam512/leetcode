{
 "cells": [
  {
   "cell_type": "markdown",
   "metadata": {},
   "source": [
    "<h5>General Approach</h5>\n",
    "<p>Create a set to store all elements of the array for quick lookups.</p>\n",
    "<p>Iterate through the array. For each element:\n",
    "Check if it's the start of a sequence.</p>\n",
    "<p>If yes, count consecutive elements and update the maximum length found.</p>\n",
    "<p>Return the maximum length found.</p>"
   ]
  }
 ],
 "metadata": {
  "language_info": {
   "name": "python"
  }
 },
 "nbformat": 4,
 "nbformat_minor": 2
}
