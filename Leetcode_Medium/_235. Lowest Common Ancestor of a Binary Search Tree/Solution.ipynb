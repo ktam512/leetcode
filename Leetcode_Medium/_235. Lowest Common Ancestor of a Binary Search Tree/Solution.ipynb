{
 "cells": [
  {
   "cell_type": "markdown",
   "metadata": {},
   "source": [
    "The first thought about this problem is to realize how the split in the middle - the root itself - affect where the LCA of two nodes are.\n",
    "For example, if they are two different nodes at two side of the root, then the root will be the LCA. "
   ]
  }
 ],
 "metadata": {
  "language_info": {
   "name": "python"
  }
 },
 "nbformat": 4,
 "nbformat_minor": 2
}
