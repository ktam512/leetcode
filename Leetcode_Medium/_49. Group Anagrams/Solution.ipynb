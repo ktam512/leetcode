{
 "cells": [
  {
   "cell_type": "markdown",
   "metadata": {},
   "source": [
    "<h5>General approach</h5>\n",
    "<p>For each word in the input list of strings, the characters are sorted to create a unique key for anagrams.</p>\n",
    "<p>The sorted word is used as a key in the hashmap, and the original word is appended to the list associated with that key.</p>\n",
    "<p>Finally, the values (lists of anagrams) from the hashmap are returned as the result.\n",
    "</p>"
   ]
  }
 ],
 "metadata": {
  "language_info": {
   "name": "python"
  }
 },
 "nbformat": 4,
 "nbformat_minor": 2
}
