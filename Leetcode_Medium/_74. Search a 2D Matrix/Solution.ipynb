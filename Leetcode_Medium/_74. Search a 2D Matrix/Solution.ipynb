{
 "cells": [
  {
   "cell_type": "markdown",
   "metadata": {},
   "source": [
    "<h5>Time complexity O(log(m*n))</h5>\n",
    "<p>Using the binary search and 2 pointers, simply run through each column first and then each row. Keep updating the 2 pointers until we find the target.</p>"
   ]
  }
 ],
 "metadata": {
  "language_info": {
   "name": "python"
  }
 },
 "nbformat": 4,
 "nbformat_minor": 2
}
