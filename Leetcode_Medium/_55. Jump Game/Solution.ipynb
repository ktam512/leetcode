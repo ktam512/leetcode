{
 "cells": [
  {
   "cell_type": "markdown",
   "metadata": {},
   "source": [
    "<h5>Problem approach</h5>\n",
    "<p>Involve changing the jump at each position.\n",
    "And then moving to a different position at each position trees. At each time the position have the value of 0, we change it to a different method.</p>"
   ]
  }
 ],
 "metadata": {
  "language_info": {
   "name": "python"
  }
 },
 "nbformat": 4,
 "nbformat_minor": 2
}
