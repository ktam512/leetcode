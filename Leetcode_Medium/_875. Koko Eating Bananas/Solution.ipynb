{
 "cells": [
  {
   "cell_type": "markdown",
   "metadata": {},
   "source": [
    "<h5>Brute force solution</h5>\n",
    "<p>The speed k of Koko ranges from number 1 to the maximum value available inside the array. Then we have to go through each value of k to see which one sastisfiy the h hour constraint.</p>"
   ]
  }
 ],
 "metadata": {
  "language_info": {
   "name": "python"
  }
 },
 "nbformat": 4,
 "nbformat_minor": 2
}
