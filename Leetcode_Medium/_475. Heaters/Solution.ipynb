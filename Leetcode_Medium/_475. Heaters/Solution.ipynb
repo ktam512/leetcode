{
 "cells": [
  {
   "cell_type": "markdown",
   "metadata": {},
   "source": [
    "<h5>Approach the problem using loop</h5>\n",
    "<p>Starting from the array, loop through each element and derive the radius from it.</p>"
   ]
  }
 ],
 "metadata": {
  "language_info": {
   "name": "python"
  }
 },
 "nbformat": 4,
 "nbformat_minor": 2
}
