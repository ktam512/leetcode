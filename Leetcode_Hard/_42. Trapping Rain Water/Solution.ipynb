{
 "cells": [
  {
   "cell_type": "markdown",
   "metadata": {},
   "source": [
    "<h5>Problem statement</h5>\n",
    "<p>Give an array height of an elevation map that have the width of each element as 1.</p>\n",
    "<p>Return the total ammount of trapped water (problem 11 medium)</p>"
   ]
  },
  {
   "cell_type": "markdown",
   "metadata": {},
   "source": [
    "<h5>O(n) Memory Solution</h5>\n",
    "<p>After doing the 11 medium problem, deduce that at every position, the ammount of water collected is min(maxHeight(left),maxHeight(right)) - height at that position. </p>\n",
    "<p>After that, keeping track of the maximum height at left and right side at each position. Store them in two array that record this.  </p>"
   ]
  },
  {
   "cell_type": "markdown",
   "metadata": {},
   "source": [
    "<h5>O(1) Memory Solution</h5>\n",
    "<p>The same with the 11 problem,use the two pointers to solve this problem</p>\n",
    "<p>Keep in mind: the maxHeight(left) and maxHeight(right) of a position is the maxHeight of that part (since we only need the smaller value) - thus use directly the value of the pointer without needing the others</p>"
   ]
  }
 ],
 "metadata": {
  "language_info": {
   "name": "python"
  }
 },
 "nbformat": 4,
 "nbformat_minor": 2
}
