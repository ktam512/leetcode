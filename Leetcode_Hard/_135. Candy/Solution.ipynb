{
 "cells": [
  {
   "cell_type": "markdown",
   "metadata": {},
   "source": [
    "<h5>Time complexity: O(n)</h5>\n",
    "<p>The approach is to traverse the ratings list twice, ensuring each child receives at least one candy and a child with a higher rating than their neighbor gets more candies. </p>"
   ]
  }
 ],
 "metadata": {
  "language_info": {
   "name": "python"
  }
 },
 "nbformat": 4,
 "nbformat_minor": 2
}
